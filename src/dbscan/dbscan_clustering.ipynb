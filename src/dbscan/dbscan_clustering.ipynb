{
 "cells": [
  {
   "cell_type": "code",
   "execution_count": 42,
   "id": "cf4f14f5-3663-4f0f-b228-00c7ab89724a",
   "metadata": {},
   "outputs": [],
   "source": [
    "from sklearn.cluster import DBSCAN\n",
    "from sklearn.preprocessing import StandardScaler\n",
    "from sklearn.preprocessing import MinMaxScaler\n",
    "import numpy as np\n",
    "import pandas as pd\n",
    "import matplotlib.pyplot as plt\n",
    "from sklearn.decomposition import PCA\n",
    "from sklearn.impute import SimpleImputer"
   ]
  },
  {
   "cell_type": "code",
   "execution_count": 488,
   "id": "7431a58c-7fd7-40ac-a650-6c5ef0d26650",
   "metadata": {},
   "outputs": [],
   "source": [
    "data = pd.read_csv('../../proj/data/SS-H.csv')"
   ]
  },
  {
   "cell_type": "code",
   "execution_count": 489,
   "id": "d13ed8d9-5295-49d8-895a-a78f526aa656",
   "metadata": {},
   "outputs": [
    {
     "data": {
      "text/html": [
       "<div>\n",
       "<style scoped>\n",
       "    .dataframe tbody tr th:only-of-type {\n",
       "        vertical-align: middle;\n",
       "    }\n",
       "\n",
       "    .dataframe tbody tr th {\n",
       "        vertical-align: top;\n",
       "    }\n",
       "\n",
       "    .dataframe thead th {\n",
       "        text-align: right;\n",
       "    }\n",
       "</style>\n",
       "<table border=\"1\" class=\"dataframe\">\n",
       "  <thead>\n",
       "    <tr style=\"text-align: right;\">\n",
       "      <th></th>\n",
       "      <th>Width</th>\n",
       "      <th>Complexity</th>\n",
       "      <th>Fifo</th>\n",
       "      <th>Multiplier</th>\n",
       "      <th>Energy-</th>\n",
       "      <th>Inv_runtime-</th>\n",
       "    </tr>\n",
       "  </thead>\n",
       "  <tbody>\n",
       "    <tr>\n",
       "      <th>0</th>\n",
       "      <td>3</td>\n",
       "      <td>1</td>\n",
       "      <td>4</td>\n",
       "      <td>1</td>\n",
       "      <td>7.835103</td>\n",
       "      <td>4.339361</td>\n",
       "    </tr>\n",
       "    <tr>\n",
       "      <th>1</th>\n",
       "      <td>3</td>\n",
       "      <td>1</td>\n",
       "      <td>1</td>\n",
       "      <td>1</td>\n",
       "      <td>7.836833</td>\n",
       "      <td>4.309194</td>\n",
       "    </tr>\n",
       "    <tr>\n",
       "      <th>2</th>\n",
       "      <td>3</td>\n",
       "      <td>1</td>\n",
       "      <td>2</td>\n",
       "      <td>100</td>\n",
       "      <td>9.965784</td>\n",
       "      <td>5.066154</td>\n",
       "    </tr>\n",
       "    <tr>\n",
       "      <th>3</th>\n",
       "      <td>4</td>\n",
       "      <td>0</td>\n",
       "      <td>4</td>\n",
       "      <td>20</td>\n",
       "      <td>7.958239</td>\n",
       "      <td>5.096536</td>\n",
       "    </tr>\n",
       "    <tr>\n",
       "      <th>4</th>\n",
       "      <td>4</td>\n",
       "      <td>0</td>\n",
       "      <td>1</td>\n",
       "      <td>20</td>\n",
       "      <td>7.958239</td>\n",
       "      <td>5.096536</td>\n",
       "    </tr>\n",
       "  </tbody>\n",
       "</table>\n",
       "</div>"
      ],
      "text/plain": [
       "   Width  Complexity  Fifo  Multiplier   Energy-  Inv_runtime-\n",
       "0      3           1     4           1  7.835103      4.339361\n",
       "1      3           1     1           1  7.836833      4.309194\n",
       "2      3           1     2         100  9.965784      5.066154\n",
       "3      4           0     4          20  7.958239      5.096536\n",
       "4      4           0     1          20  7.958239      5.096536"
      ]
     },
     "execution_count": 489,
     "metadata": {},
     "output_type": "execute_result"
    }
   ],
   "source": [
    "data.head()"
   ]
  },
  {
   "cell_type": "code",
   "execution_count": 490,
   "id": "5dd25fdf-68db-487d-b44e-97bcb90d1ae8",
   "metadata": {},
   "outputs": [],
   "source": [
    "#X = data[['Clndrs', 'Volume', 'HpX', 'Model', 'origin']]\n",
    "#y = data[['Lbs-', 'Acc+', 'Mpg+']]\n",
    "X_columns = [col for col in data.columns if not (col.endswith('+') or col.endswith('-') or col.endswith('!'))]\n",
    "y_columns = [col for col in data.columns if col.endswith('+') or col.endswith('-') or col.endswith('!')]\n",
    "\n",
    "X = data[X_columns]\n",
    "y = data[y_columns]"
   ]
  },
  {
   "cell_type": "code",
   "execution_count": 491,
   "id": "bd1feb12-e434-426c-b339-4ce3179b91e5",
   "metadata": {},
   "outputs": [
    {
     "name": "stderr",
     "output_type": "stream",
     "text": [
      "/var/folders/mf/pc621dwd2z3_jmf5p7t1zn2r0000gn/T/ipykernel_47495/2018571216.py:1: SettingWithCopyWarning: \n",
      "A value is trying to be set on a copy of a slice from a DataFrame\n",
      "\n",
      "See the caveats in the documentation: https://pandas.pydata.org/pandas-docs/stable/user_guide/indexing.html#returning-a-view-versus-a-copy\n",
      "  X.replace('?', np.nan, inplace=True)\n"
     ]
    }
   ],
   "source": [
    "X.replace('?', np.nan, inplace=True)"
   ]
  },
  {
   "cell_type": "code",
   "execution_count": 492,
   "id": "056fb53d-1318-477f-8ef0-813054f63836",
   "metadata": {},
   "outputs": [
    {
     "name": "stdout",
     "output_type": "stream",
     "text": [
      "['Energy-', 'Inv_runtime-']\n"
     ]
    }
   ],
   "source": [
    "column_names = X.columns.tolist()\n",
    "y_column_names = y.columns.tolist()\n",
    "features = y_column_names\n",
    "print(features)"
   ]
  },
  {
   "cell_type": "code",
   "execution_count": 493,
   "id": "a2010e01-e3a4-4ede-ab5f-ec08f419ea10",
   "metadata": {},
   "outputs": [],
   "source": [
    "centroids_data = []"
   ]
  },
  {
   "cell_type": "code",
   "execution_count": 494,
   "id": "d0b3d7dc-de38-4179-9684-0276416f9e2d",
   "metadata": {},
   "outputs": [
    {
     "name": "stdout",
     "output_type": "stream",
     "text": [
      "(259, 4)\n"
     ]
    }
   ],
   "source": [
    "#using standard scaler\n",
    "#X = StandardScaler().fit_transform(X.astype(float))\n",
    "print(X.shape)"
   ]
  },
  {
   "cell_type": "code",
   "execution_count": 495,
   "id": "5c693dd3-3782-4de5-b9ab-4599e20de002",
   "metadata": {},
   "outputs": [],
   "source": [
    "#using minmax scaler to retain original values\n",
    "scaler = MinMaxScaler()\n",
    "X = scaler.fit_transform(X)"
   ]
  },
  {
   "cell_type": "code",
   "execution_count": 496,
   "id": "2b2a3468-614e-4edb-8859-0c0cb6723f74",
   "metadata": {},
   "outputs": [],
   "source": [
    "imputer = SimpleImputer(strategy='mean')\n",
    "X = imputer.fit_transform(X)"
   ]
  },
  {
   "cell_type": "code",
   "execution_count": 497,
   "id": "e0faab9f-dafd-42c1-8196-f95651ffe138",
   "metadata": {},
   "outputs": [],
   "source": [
    "#pca = PCA(n_components=2)\n",
    "#X_pca = pca.fit_transform(X)"
   ]
  },
  {
   "cell_type": "code",
   "execution_count": 498,
   "id": "c1e8c040-7f67-4af3-b5b6-8dfeea25d8bb",
   "metadata": {},
   "outputs": [],
   "source": [
    "dbscan = DBSCAN(eps=0.6, min_samples=3)"
   ]
  },
  {
   "cell_type": "code",
   "execution_count": 499,
   "id": "cc466477-ac8e-4e41-b9e1-42e039520afd",
   "metadata": {},
   "outputs": [
    {
     "data": {
      "text/html": [
       "<style>#sk-container-id-23 {\n",
       "  /* Definition of color scheme common for light and dark mode */\n",
       "  --sklearn-color-text: black;\n",
       "  --sklearn-color-line: gray;\n",
       "  /* Definition of color scheme for unfitted estimators */\n",
       "  --sklearn-color-unfitted-level-0: #fff5e6;\n",
       "  --sklearn-color-unfitted-level-1: #f6e4d2;\n",
       "  --sklearn-color-unfitted-level-2: #ffe0b3;\n",
       "  --sklearn-color-unfitted-level-3: chocolate;\n",
       "  /* Definition of color scheme for fitted estimators */\n",
       "  --sklearn-color-fitted-level-0: #f0f8ff;\n",
       "  --sklearn-color-fitted-level-1: #d4ebff;\n",
       "  --sklearn-color-fitted-level-2: #b3dbfd;\n",
       "  --sklearn-color-fitted-level-3: cornflowerblue;\n",
       "\n",
       "  /* Specific color for light theme */\n",
       "  --sklearn-color-text-on-default-background: var(--sg-text-color, var(--theme-code-foreground, var(--jp-content-font-color1, black)));\n",
       "  --sklearn-color-background: var(--sg-background-color, var(--theme-background, var(--jp-layout-color0, white)));\n",
       "  --sklearn-color-border-box: var(--sg-text-color, var(--theme-code-foreground, var(--jp-content-font-color1, black)));\n",
       "  --sklearn-color-icon: #696969;\n",
       "\n",
       "  @media (prefers-color-scheme: dark) {\n",
       "    /* Redefinition of color scheme for dark theme */\n",
       "    --sklearn-color-text-on-default-background: var(--sg-text-color, var(--theme-code-foreground, var(--jp-content-font-color1, white)));\n",
       "    --sklearn-color-background: var(--sg-background-color, var(--theme-background, var(--jp-layout-color0, #111)));\n",
       "    --sklearn-color-border-box: var(--sg-text-color, var(--theme-code-foreground, var(--jp-content-font-color1, white)));\n",
       "    --sklearn-color-icon: #878787;\n",
       "  }\n",
       "}\n",
       "\n",
       "#sk-container-id-23 {\n",
       "  color: var(--sklearn-color-text);\n",
       "}\n",
       "\n",
       "#sk-container-id-23 pre {\n",
       "  padding: 0;\n",
       "}\n",
       "\n",
       "#sk-container-id-23 input.sk-hidden--visually {\n",
       "  border: 0;\n",
       "  clip: rect(1px 1px 1px 1px);\n",
       "  clip: rect(1px, 1px, 1px, 1px);\n",
       "  height: 1px;\n",
       "  margin: -1px;\n",
       "  overflow: hidden;\n",
       "  padding: 0;\n",
       "  position: absolute;\n",
       "  width: 1px;\n",
       "}\n",
       "\n",
       "#sk-container-id-23 div.sk-dashed-wrapped {\n",
       "  border: 1px dashed var(--sklearn-color-line);\n",
       "  margin: 0 0.4em 0.5em 0.4em;\n",
       "  box-sizing: border-box;\n",
       "  padding-bottom: 0.4em;\n",
       "  background-color: var(--sklearn-color-background);\n",
       "}\n",
       "\n",
       "#sk-container-id-23 div.sk-container {\n",
       "  /* jupyter's `normalize.less` sets `[hidden] { display: none; }`\n",
       "     but bootstrap.min.css set `[hidden] { display: none !important; }`\n",
       "     so we also need the `!important` here to be able to override the\n",
       "     default hidden behavior on the sphinx rendered scikit-learn.org.\n",
       "     See: https://github.com/scikit-learn/scikit-learn/issues/21755 */\n",
       "  display: inline-block !important;\n",
       "  position: relative;\n",
       "}\n",
       "\n",
       "#sk-container-id-23 div.sk-text-repr-fallback {\n",
       "  display: none;\n",
       "}\n",
       "\n",
       "div.sk-parallel-item,\n",
       "div.sk-serial,\n",
       "div.sk-item {\n",
       "  /* draw centered vertical line to link estimators */\n",
       "  background-image: linear-gradient(var(--sklearn-color-text-on-default-background), var(--sklearn-color-text-on-default-background));\n",
       "  background-size: 2px 100%;\n",
       "  background-repeat: no-repeat;\n",
       "  background-position: center center;\n",
       "}\n",
       "\n",
       "/* Parallel-specific style estimator block */\n",
       "\n",
       "#sk-container-id-23 div.sk-parallel-item::after {\n",
       "  content: \"\";\n",
       "  width: 100%;\n",
       "  border-bottom: 2px solid var(--sklearn-color-text-on-default-background);\n",
       "  flex-grow: 1;\n",
       "}\n",
       "\n",
       "#sk-container-id-23 div.sk-parallel {\n",
       "  display: flex;\n",
       "  align-items: stretch;\n",
       "  justify-content: center;\n",
       "  background-color: var(--sklearn-color-background);\n",
       "  position: relative;\n",
       "}\n",
       "\n",
       "#sk-container-id-23 div.sk-parallel-item {\n",
       "  display: flex;\n",
       "  flex-direction: column;\n",
       "}\n",
       "\n",
       "#sk-container-id-23 div.sk-parallel-item:first-child::after {\n",
       "  align-self: flex-end;\n",
       "  width: 50%;\n",
       "}\n",
       "\n",
       "#sk-container-id-23 div.sk-parallel-item:last-child::after {\n",
       "  align-self: flex-start;\n",
       "  width: 50%;\n",
       "}\n",
       "\n",
       "#sk-container-id-23 div.sk-parallel-item:only-child::after {\n",
       "  width: 0;\n",
       "}\n",
       "\n",
       "/* Serial-specific style estimator block */\n",
       "\n",
       "#sk-container-id-23 div.sk-serial {\n",
       "  display: flex;\n",
       "  flex-direction: column;\n",
       "  align-items: center;\n",
       "  background-color: var(--sklearn-color-background);\n",
       "  padding-right: 1em;\n",
       "  padding-left: 1em;\n",
       "}\n",
       "\n",
       "\n",
       "/* Toggleable style: style used for estimator/Pipeline/ColumnTransformer box that is\n",
       "clickable and can be expanded/collapsed.\n",
       "- Pipeline and ColumnTransformer use this feature and define the default style\n",
       "- Estimators will overwrite some part of the style using the `sk-estimator` class\n",
       "*/\n",
       "\n",
       "/* Pipeline and ColumnTransformer style (default) */\n",
       "\n",
       "#sk-container-id-23 div.sk-toggleable {\n",
       "  /* Default theme specific background. It is overwritten whether we have a\n",
       "  specific estimator or a Pipeline/ColumnTransformer */\n",
       "  background-color: var(--sklearn-color-background);\n",
       "}\n",
       "\n",
       "/* Toggleable label */\n",
       "#sk-container-id-23 label.sk-toggleable__label {\n",
       "  cursor: pointer;\n",
       "  display: block;\n",
       "  width: 100%;\n",
       "  margin-bottom: 0;\n",
       "  padding: 0.5em;\n",
       "  box-sizing: border-box;\n",
       "  text-align: center;\n",
       "}\n",
       "\n",
       "#sk-container-id-23 label.sk-toggleable__label-arrow:before {\n",
       "  /* Arrow on the left of the label */\n",
       "  content: \"▸\";\n",
       "  float: left;\n",
       "  margin-right: 0.25em;\n",
       "  color: var(--sklearn-color-icon);\n",
       "}\n",
       "\n",
       "#sk-container-id-23 label.sk-toggleable__label-arrow:hover:before {\n",
       "  color: var(--sklearn-color-text);\n",
       "}\n",
       "\n",
       "/* Toggleable content - dropdown */\n",
       "\n",
       "#sk-container-id-23 div.sk-toggleable__content {\n",
       "  max-height: 0;\n",
       "  max-width: 0;\n",
       "  overflow: hidden;\n",
       "  text-align: left;\n",
       "  /* unfitted */\n",
       "  background-color: var(--sklearn-color-unfitted-level-0);\n",
       "}\n",
       "\n",
       "#sk-container-id-23 div.sk-toggleable__content.fitted {\n",
       "  /* fitted */\n",
       "  background-color: var(--sklearn-color-fitted-level-0);\n",
       "}\n",
       "\n",
       "#sk-container-id-23 div.sk-toggleable__content pre {\n",
       "  margin: 0.2em;\n",
       "  border-radius: 0.25em;\n",
       "  color: var(--sklearn-color-text);\n",
       "  /* unfitted */\n",
       "  background-color: var(--sklearn-color-unfitted-level-0);\n",
       "}\n",
       "\n",
       "#sk-container-id-23 div.sk-toggleable__content.fitted pre {\n",
       "  /* unfitted */\n",
       "  background-color: var(--sklearn-color-fitted-level-0);\n",
       "}\n",
       "\n",
       "#sk-container-id-23 input.sk-toggleable__control:checked~div.sk-toggleable__content {\n",
       "  /* Expand drop-down */\n",
       "  max-height: 200px;\n",
       "  max-width: 100%;\n",
       "  overflow: auto;\n",
       "}\n",
       "\n",
       "#sk-container-id-23 input.sk-toggleable__control:checked~label.sk-toggleable__label-arrow:before {\n",
       "  content: \"▾\";\n",
       "}\n",
       "\n",
       "/* Pipeline/ColumnTransformer-specific style */\n",
       "\n",
       "#sk-container-id-23 div.sk-label input.sk-toggleable__control:checked~label.sk-toggleable__label {\n",
       "  color: var(--sklearn-color-text);\n",
       "  background-color: var(--sklearn-color-unfitted-level-2);\n",
       "}\n",
       "\n",
       "#sk-container-id-23 div.sk-label.fitted input.sk-toggleable__control:checked~label.sk-toggleable__label {\n",
       "  background-color: var(--sklearn-color-fitted-level-2);\n",
       "}\n",
       "\n",
       "/* Estimator-specific style */\n",
       "\n",
       "/* Colorize estimator box */\n",
       "#sk-container-id-23 div.sk-estimator input.sk-toggleable__control:checked~label.sk-toggleable__label {\n",
       "  /* unfitted */\n",
       "  background-color: var(--sklearn-color-unfitted-level-2);\n",
       "}\n",
       "\n",
       "#sk-container-id-23 div.sk-estimator.fitted input.sk-toggleable__control:checked~label.sk-toggleable__label {\n",
       "  /* fitted */\n",
       "  background-color: var(--sklearn-color-fitted-level-2);\n",
       "}\n",
       "\n",
       "#sk-container-id-23 div.sk-label label.sk-toggleable__label,\n",
       "#sk-container-id-23 div.sk-label label {\n",
       "  /* The background is the default theme color */\n",
       "  color: var(--sklearn-color-text-on-default-background);\n",
       "}\n",
       "\n",
       "/* On hover, darken the color of the background */\n",
       "#sk-container-id-23 div.sk-label:hover label.sk-toggleable__label {\n",
       "  color: var(--sklearn-color-text);\n",
       "  background-color: var(--sklearn-color-unfitted-level-2);\n",
       "}\n",
       "\n",
       "/* Label box, darken color on hover, fitted */\n",
       "#sk-container-id-23 div.sk-label.fitted:hover label.sk-toggleable__label.fitted {\n",
       "  color: var(--sklearn-color-text);\n",
       "  background-color: var(--sklearn-color-fitted-level-2);\n",
       "}\n",
       "\n",
       "/* Estimator label */\n",
       "\n",
       "#sk-container-id-23 div.sk-label label {\n",
       "  font-family: monospace;\n",
       "  font-weight: bold;\n",
       "  display: inline-block;\n",
       "  line-height: 1.2em;\n",
       "}\n",
       "\n",
       "#sk-container-id-23 div.sk-label-container {\n",
       "  text-align: center;\n",
       "}\n",
       "\n",
       "/* Estimator-specific */\n",
       "#sk-container-id-23 div.sk-estimator {\n",
       "  font-family: monospace;\n",
       "  border: 1px dotted var(--sklearn-color-border-box);\n",
       "  border-radius: 0.25em;\n",
       "  box-sizing: border-box;\n",
       "  margin-bottom: 0.5em;\n",
       "  /* unfitted */\n",
       "  background-color: var(--sklearn-color-unfitted-level-0);\n",
       "}\n",
       "\n",
       "#sk-container-id-23 div.sk-estimator.fitted {\n",
       "  /* fitted */\n",
       "  background-color: var(--sklearn-color-fitted-level-0);\n",
       "}\n",
       "\n",
       "/* on hover */\n",
       "#sk-container-id-23 div.sk-estimator:hover {\n",
       "  /* unfitted */\n",
       "  background-color: var(--sklearn-color-unfitted-level-2);\n",
       "}\n",
       "\n",
       "#sk-container-id-23 div.sk-estimator.fitted:hover {\n",
       "  /* fitted */\n",
       "  background-color: var(--sklearn-color-fitted-level-2);\n",
       "}\n",
       "\n",
       "/* Specification for estimator info (e.g. \"i\" and \"?\") */\n",
       "\n",
       "/* Common style for \"i\" and \"?\" */\n",
       "\n",
       ".sk-estimator-doc-link,\n",
       "a:link.sk-estimator-doc-link,\n",
       "a:visited.sk-estimator-doc-link {\n",
       "  float: right;\n",
       "  font-size: smaller;\n",
       "  line-height: 1em;\n",
       "  font-family: monospace;\n",
       "  background-color: var(--sklearn-color-background);\n",
       "  border-radius: 1em;\n",
       "  height: 1em;\n",
       "  width: 1em;\n",
       "  text-decoration: none !important;\n",
       "  margin-left: 1ex;\n",
       "  /* unfitted */\n",
       "  border: var(--sklearn-color-unfitted-level-1) 1pt solid;\n",
       "  color: var(--sklearn-color-unfitted-level-1);\n",
       "}\n",
       "\n",
       ".sk-estimator-doc-link.fitted,\n",
       "a:link.sk-estimator-doc-link.fitted,\n",
       "a:visited.sk-estimator-doc-link.fitted {\n",
       "  /* fitted */\n",
       "  border: var(--sklearn-color-fitted-level-1) 1pt solid;\n",
       "  color: var(--sklearn-color-fitted-level-1);\n",
       "}\n",
       "\n",
       "/* On hover */\n",
       "div.sk-estimator:hover .sk-estimator-doc-link:hover,\n",
       ".sk-estimator-doc-link:hover,\n",
       "div.sk-label-container:hover .sk-estimator-doc-link:hover,\n",
       ".sk-estimator-doc-link:hover {\n",
       "  /* unfitted */\n",
       "  background-color: var(--sklearn-color-unfitted-level-3);\n",
       "  color: var(--sklearn-color-background);\n",
       "  text-decoration: none;\n",
       "}\n",
       "\n",
       "div.sk-estimator.fitted:hover .sk-estimator-doc-link.fitted:hover,\n",
       ".sk-estimator-doc-link.fitted:hover,\n",
       "div.sk-label-container:hover .sk-estimator-doc-link.fitted:hover,\n",
       ".sk-estimator-doc-link.fitted:hover {\n",
       "  /* fitted */\n",
       "  background-color: var(--sklearn-color-fitted-level-3);\n",
       "  color: var(--sklearn-color-background);\n",
       "  text-decoration: none;\n",
       "}\n",
       "\n",
       "/* Span, style for the box shown on hovering the info icon */\n",
       ".sk-estimator-doc-link span {\n",
       "  display: none;\n",
       "  z-index: 9999;\n",
       "  position: relative;\n",
       "  font-weight: normal;\n",
       "  right: .2ex;\n",
       "  padding: .5ex;\n",
       "  margin: .5ex;\n",
       "  width: min-content;\n",
       "  min-width: 20ex;\n",
       "  max-width: 50ex;\n",
       "  color: var(--sklearn-color-text);\n",
       "  box-shadow: 2pt 2pt 4pt #999;\n",
       "  /* unfitted */\n",
       "  background: var(--sklearn-color-unfitted-level-0);\n",
       "  border: .5pt solid var(--sklearn-color-unfitted-level-3);\n",
       "}\n",
       "\n",
       ".sk-estimator-doc-link.fitted span {\n",
       "  /* fitted */\n",
       "  background: var(--sklearn-color-fitted-level-0);\n",
       "  border: var(--sklearn-color-fitted-level-3);\n",
       "}\n",
       "\n",
       ".sk-estimator-doc-link:hover span {\n",
       "  display: block;\n",
       "}\n",
       "\n",
       "/* \"?\"-specific style due to the `<a>` HTML tag */\n",
       "\n",
       "#sk-container-id-23 a.estimator_doc_link {\n",
       "  float: right;\n",
       "  font-size: 1rem;\n",
       "  line-height: 1em;\n",
       "  font-family: monospace;\n",
       "  background-color: var(--sklearn-color-background);\n",
       "  border-radius: 1rem;\n",
       "  height: 1rem;\n",
       "  width: 1rem;\n",
       "  text-decoration: none;\n",
       "  /* unfitted */\n",
       "  color: var(--sklearn-color-unfitted-level-1);\n",
       "  border: var(--sklearn-color-unfitted-level-1) 1pt solid;\n",
       "}\n",
       "\n",
       "#sk-container-id-23 a.estimator_doc_link.fitted {\n",
       "  /* fitted */\n",
       "  border: var(--sklearn-color-fitted-level-1) 1pt solid;\n",
       "  color: var(--sklearn-color-fitted-level-1);\n",
       "}\n",
       "\n",
       "/* On hover */\n",
       "#sk-container-id-23 a.estimator_doc_link:hover {\n",
       "  /* unfitted */\n",
       "  background-color: var(--sklearn-color-unfitted-level-3);\n",
       "  color: var(--sklearn-color-background);\n",
       "  text-decoration: none;\n",
       "}\n",
       "\n",
       "#sk-container-id-23 a.estimator_doc_link.fitted:hover {\n",
       "  /* fitted */\n",
       "  background-color: var(--sklearn-color-fitted-level-3);\n",
       "}\n",
       "</style><div id=\"sk-container-id-23\" class=\"sk-top-container\"><div class=\"sk-text-repr-fallback\"><pre>DBSCAN(eps=0.6, min_samples=3)</pre><b>In a Jupyter environment, please rerun this cell to show the HTML representation or trust the notebook. <br />On GitHub, the HTML representation is unable to render, please try loading this page with nbviewer.org.</b></div><div class=\"sk-container\" hidden><div class=\"sk-item\"><div class=\"sk-estimator fitted sk-toggleable\"><input class=\"sk-toggleable__control sk-hidden--visually\" id=\"sk-estimator-id-23\" type=\"checkbox\" checked><label for=\"sk-estimator-id-23\" class=\"sk-toggleable__label fitted sk-toggleable__label-arrow fitted\">&nbsp;&nbsp;DBSCAN<a class=\"sk-estimator-doc-link fitted\" rel=\"noreferrer\" target=\"_blank\" href=\"https://scikit-learn.org/1.4/modules/generated/sklearn.cluster.DBSCAN.html\">?<span>Documentation for DBSCAN</span></a><span class=\"sk-estimator-doc-link fitted\">i<span>Fitted</span></span></label><div class=\"sk-toggleable__content fitted\"><pre>DBSCAN(eps=0.6, min_samples=3)</pre></div> </div></div></div></div>"
      ],
      "text/plain": [
       "DBSCAN(eps=0.6, min_samples=3)"
      ]
     },
     "execution_count": 499,
     "metadata": {},
     "output_type": "execute_result"
    }
   ],
   "source": [
    "dbscan.fit(X)"
   ]
  },
  {
   "cell_type": "code",
   "execution_count": 500,
   "id": "05f8773c-2b65-48ee-8a63-30c40b73a29b",
   "metadata": {},
   "outputs": [],
   "source": [
    "labels = dbscan.labels_\n",
    "data['Cluster'] = labels"
   ]
  },
  {
   "cell_type": "code",
   "execution_count": 501,
   "id": "11f67c43-a802-47fe-ab6e-40664d0d80d9",
   "metadata": {},
   "outputs": [],
   "source": [
    "unique_labels = np.unique(labels)\n",
    "#print(f\"\\t\\t     {column_names}\")\n",
    "for label in unique_labels:\n",
    "    if label == -1:\n",
    "        continue  # Skip noise points\n",
    "    cluster_size = np.sum(labels == label)\n",
    "    cluster_centroid = np.mean(X[labels == label], axis=0)\n",
    "    #getting back original values to print\n",
    "    cluster_centroid_original_scale = scaler.inverse_transform([cluster_centroid])\n",
    "    cluster_centroid_formatted = [f\"{value:.2f}\" for value in cluster_centroid_original_scale[0]]\n",
    "    y_centroid = np.mean(y.values[labels == label], axis=0)\n",
    "    y_centroid_original_scale = y_centroid  # Assuming y values are not scaled\n",
    "    y_centroid_formatted = [f\"{value:.2f}\" for value in y_centroid_original_scale]\n",
    "    \n",
    "    centroid_data = {'Cluster': label, **dict(zip(column_names, cluster_centroid_formatted)), \n",
    "                     **dict(zip(y_column_names, y_centroid_formatted))}\n",
    "    \n",
    "    centroids_data.append(centroid_data)\n",
    "    #print(f\"Cluster {label}: Centroid = {cluster_centroid_formatted}, Size = {cluster_size}\")\n",
    "    '''print(f\"Cluster {label}:\")\n",
    "    for col, value in zip(column_names, cluster_centroid_formatted):\n",
    "        print(f\"    {col}: {value}\")\n",
    "    print(f\"Size = {cluster_size}\\n\")'''"
   ]
  },
  {
   "cell_type": "code",
   "execution_count": 502,
   "id": "1143a03e-0a34-41b4-929b-c17dea1fae2b",
   "metadata": {},
   "outputs": [
    {
     "name": "stdout",
     "output_type": "stream",
     "text": [
      "   Cluster Width Complexity  Fifo Multiplier Energy- Inv_runtime-\n",
      "0        0  4.89       1.00  2.42      26.86    8.06         5.00\n",
      "1        1  4.78       0.00  2.39      26.86    7.75         5.01\n"
     ]
    }
   ],
   "source": [
    "centroids_df = pd.DataFrame(centroids_data)\n",
    "print(centroids_df)"
   ]
  },
  {
   "cell_type": "code",
   "execution_count": 503,
   "id": "57c994f5-1272-4075-a35f-baf05d00fe94",
   "metadata": {},
   "outputs": [
    {
     "name": "stdout",
     "output_type": "stream",
     "text": [
      "Number of clusters formed: 2\n"
     ]
    }
   ],
   "source": [
    "n_clusters = len(set(labels)) - (1 if -1 in labels else 0)\n",
    "print(f'Number of clusters formed: {n_clusters}')"
   ]
  },
  {
   "cell_type": "code",
   "execution_count": 504,
   "id": "6404841b-211d-4b6d-8094-d607a4be4b81",
   "metadata": {},
   "outputs": [
    {
     "name": "stderr",
     "output_type": "stream",
     "text": [
      "/var/folders/mf/pc621dwd2z3_jmf5p7t1zn2r0000gn/T/ipykernel_47495/2196313317.py:1: FutureWarning: errors='ignore' is deprecated and will raise in a future version. Use to_numeric without passing `errors` and catch exceptions explicitly instead\n",
      "  centroids_df = centroids_df.apply(pd.to_numeric, errors='ignore')\n"
     ]
    }
   ],
   "source": [
    "centroids_df = centroids_df.apply(pd.to_numeric, errors='ignore')"
   ]
  },
  {
   "cell_type": "code",
   "execution_count": 505,
   "id": "677d66c3-a88b-401d-b81d-0c295d33b768",
   "metadata": {},
   "outputs": [],
   "source": [
    "maxValues = data.max()\n",
    "minValues = data.min()"
   ]
  },
  {
   "cell_type": "code",
   "execution_count": 506,
   "id": "9a049409-8ae5-4a16-ab91-dffb2883727b",
   "metadata": {},
   "outputs": [],
   "source": [
    "def normalize_values(min_val, max_val, value):\n",
    "    return (value - min_val) / (max_val - min_val)"
   ]
  },
  {
   "cell_type": "code",
   "execution_count": 507,
   "id": "afb56484-7433-489b-b3a7-759ba0a94e16",
   "metadata": {},
   "outputs": [
    {
     "name": "stdout",
     "output_type": "stream",
     "text": [
      "Cluster          0.00\n",
      "Width            4.78\n",
      "Complexity       0.00\n",
      "Fifo             2.39\n",
      "Multiplier      26.86\n",
      "Energy-          7.75\n",
      "Inv_runtime-     5.00\n",
      "dtype: float64\n"
     ]
    }
   ],
   "source": [
    "print(centroids_df.min())"
   ]
  },
  {
   "cell_type": "code",
   "execution_count": 508,
   "id": "ef9be12b-e791-4d27-bb7b-ae65cee7ba22",
   "metadata": {},
   "outputs": [
    {
     "name": "stdout",
     "output_type": "stream",
     "text": [
      "   Cluster  Width  Complexity  Fifo  Multiplier  Energy-  Inv_runtime-    d2h\n",
      "0        0   4.89         1.0  2.42       26.86     8.06          5.00  0.697\n",
      "1        1   4.78         0.0  2.39       26.86     7.75          5.01  0.677\n"
     ]
    }
   ],
   "source": [
    "d2h = []\n",
    "for index, centroid in centroids_df.iterrows():\n",
    "    d = 0\n",
    "    for column in features:\n",
    "        if column.endswith(\"+\"):\n",
    "            d += (abs(1.0 - normalize_values(minValues[column], maxValues[column], centroid[column])))**2\n",
    "        else:\n",
    "            d += (abs(0.0 - normalize_values(minValues[column], maxValues[column], centroid[column])))**2\n",
    "    d2h.append((d/len(features))**(1/2))\n",
    "\n",
    "d2h = [round(value, 3) for value in d2h]\n",
    "centroids_df['d2h'] = d2h\n",
    "\n",
    "# Print the centroids DataFrame\n",
    "print(centroids_df)\n"
   ]
  },
  {
   "cell_type": "code",
   "execution_count": 509,
   "id": "614a5365-7b78-4222-adf3-9eef532d65c2",
   "metadata": {},
   "outputs": [
    {
     "name": "stdout",
     "output_type": "stream",
     "text": [
      "0.677\n"
     ]
    }
   ],
   "source": [
    "print(min(d2h))"
   ]
  },
  {
   "cell_type": "code",
   "execution_count": 510,
   "id": "3981f581-fadb-4700-abaa-8b51f790401a",
   "metadata": {},
   "outputs": [
    {
     "name": "stdout",
     "output_type": "stream",
     "text": [
      "     0     1     2     3     4     5     6     7     8     9     10    11  \\\n",
      "0  0.68  0.68  0.68  0.68  0.68  0.68  0.68  0.68  0.68  0.68  0.68  0.68   \n",
      "\n",
      "     12    13    14    15    16    17    18    19  \n",
      "0  0.68  0.68  0.68  0.68  0.68  0.68  0.68  0.68  \n"
     ]
    }
   ],
   "source": [
    "val = round(min(d2h),2)\n",
    "val_list = [val] * 20\n",
    "df = pd.DataFrame([val_list])\n",
    "print(df)"
   ]
  },
  {
   "cell_type": "code",
   "execution_count": 511,
   "id": "4f7a19e4-2306-4241-b5e6-86ff23dec448",
   "metadata": {},
   "outputs": [],
   "source": [
    "centroids_df.to_csv('Baselines/SS-H-baseline.csv',index=False)"
   ]
  },
  {
   "cell_type": "code",
   "execution_count": 391,
   "id": "ffbc5172-24c6-4e14-8818-d3ebd79a5603",
   "metadata": {},
   "outputs": [],
   "source": [
    "#plt.scatter(X_pca[:, 0], X_pca[:, 1], c=labels, cmap='rainbow')\n",
    "#plt.xlabel('PC1')\n",
    "#plt.ylabel('PC2')\n",
    "#plt.title('dbscan clusters (after pca)')\n",
    "#plt.show()"
   ]
  },
  {
   "cell_type": "code",
   "execution_count": 201,
   "id": "51ed816b-f394-47d3-a109-7c305d433acc",
   "metadata": {},
   "outputs": [
    {
     "name": "stdout",
     "output_type": "stream",
     "text": [
      "Indices of core samples: [  0   2   3   4   5   6   7   8   9  11  12  13  14  15  16  18  19  20\n",
      "  21  22  23  24  25  26  27  28  29  30  31  32  33  34  35  36  37  38\n",
      "  39  40  41  42  43  44  45  46  47  48  49  50  51  52  53  56  58  59\n",
      "  60  61  62  63  64  65  66  67  68  69  70  73  74  75  76  78  79  80\n",
      "  82  83  84  86  90  91  92  93  94  95  98  99 100 101 102 103 104 105\n",
      " 108 109 110 111 112 113 114 115 116 117 119 120 121 123 125 126 127 128\n",
      " 129 130 131 132 133 135 136 137 138 139 140 142 143 144 145 147 148 149\n",
      " 151 152 153 155 157 158 159 160 161 162 165 166 167 168 169 170 171 172\n",
      " 173 174 175 177 178 179 180 182 184 185 186 187 188 189 190 191 194 196\n",
      " 197 198 199 200 201 202 203 204 205 206 209 211 212 214 215 216 217 218\n",
      " 219 220 221 222 224 226 227 228 229 230 231 233 234 235 237 238 240 243\n",
      " 244 245 249 250 251 252 253 254 255 256 257 258 259 260 262 265 266 267\n",
      " 268 269 270 271 272 273 274 276 277 278 279 280 281 282 283 285 286 287\n",
      " 288 289 291 294 295 296 298 299 300 301 302 303 304 305 306 307 308 309\n",
      " 310 312 313 314 316 318 319 320 321 322 323 324 325 326 327 328 329 330\n",
      " 331 332 333 335 336 337 338 339 340 342 344 345 346 347 348 349 350 351\n",
      " 352 353 354 355 356 357 358 359 361 363 364 365 368 369 370 371 372 373\n",
      " 375 376 377 378 379 380 381 382 383 385 386 387 388 389 391 393 395 396\n",
      " 397]\n"
     ]
    }
   ],
   "source": [
    "core_samples_mask = np.zeros_like(dbscan.labels_, dtype=bool)\n",
    "core_samples_mask[dbscan.core_sample_indices_] = True\n",
    "print(\"Indices of core samples:\", dbscan.core_sample_indices_)"
   ]
  },
  {
   "cell_type": "code",
   "execution_count": null,
   "id": "fbbe9485-5fc5-4808-8e28-6391f0851526",
   "metadata": {},
   "outputs": [],
   "source": []
  }
 ],
 "metadata": {
  "kernelspec": {
   "display_name": "Python 3 (ipykernel)",
   "language": "python",
   "name": "python3"
  },
  "language_info": {
   "codemirror_mode": {
    "name": "ipython",
    "version": 3
   },
   "file_extension": ".py",
   "mimetype": "text/x-python",
   "name": "python",
   "nbconvert_exporter": "python",
   "pygments_lexer": "ipython3",
   "version": "3.11.7"
  }
 },
 "nbformat": 4,
 "nbformat_minor": 5
}
