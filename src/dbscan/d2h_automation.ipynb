{
 "cells": [
  {
   "cell_type": "code",
   "execution_count": 1,
   "id": "347d794b-600f-4a24-8782-966492249b5e",
   "metadata": {},
   "outputs": [],
   "source": [
    "import pandas as pd\n",
    "import os"
   ]
  },
  {
   "cell_type": "code",
   "execution_count": 5,
   "id": "35673cb8-7efc-4827-b59e-9653337b41a7",
   "metadata": {},
   "outputs": [],
   "source": [
    "directory_path = 'SS-A-subsets'\n",
    "csv_files = os.listdir(directory_path)\n",
    "\n",
    "file10 = directory_path + '-10'\n",
    "file50 = directory_path + '-50'\n",
    "file100 = directory_path + '-100'\n",
    "filename = ''\n",
    "\n",
    "d2h_10 = []\n",
    "d2h_50 = []\n",
    "d2h_100 = []\n",
    "\n",
    "for file in csv_files:\n",
    "    sub = file[9:12]\n",
    "    if sub.endswith('_'):\n",
    "        if sub.startswith('10'):\n",
    "            filename = directory_path + '/' + file10\n",
    "        elif sub.startswith('50'):\n",
    "            filename = directory_path + '/' + file50\n",
    "    elif sub.startswith('100'):\n",
    "        filename = directory_path + '/' + file100\n",
    "\n",
    "    path = os.path.join(directory_path, file)\n",
    "    try:\n",
    "        centroid_df = pd.read_csv(path)\n",
    "        lowest_d2h = centroid_df['d2h'].min()\n",
    "    \n",
    "        if filename.endswith('10'):\n",
    "            d2h_10.append(lowest_d2h)\n",
    "        elif filename.endswith('50'):\n",
    "            d2h_50.append(lowest_d2h)\n",
    "        else:\n",
    "            d2h_100.append(lowest_d2h)\n",
    "    except Exception as e:\n",
    "        print(f\"Error reading file {csv_file}: {e}\")\n",
    "\n",
    "lowest_d2h_10 = pd.DataFrame(d2h_10, columns=[''])\n",
    "lowest_d2h_100 = pd.DataFrame(d2h_100, columns=[''])\n",
    "lowest_d2h_50 = pd.DataFrame(d2h_50, columns=[''])\n",
    "\n",
    "lowest_d2h_10.to_csv(f'{file10}.csv', index=False, header=False)\n",
    "lowest_d2h_50.to_csv(f'{file50}.csv', index=False, header=False)\n",
    "lowest_d2h_100.to_csv(f'{file100}.csv', index=False, header=False)"
   ]
  },
  {
   "cell_type": "code",
   "execution_count": null,
   "id": "09930d89-0037-4bea-aaaa-b52f8cc7e7ab",
   "metadata": {},
   "outputs": [],
   "source": []
  }
 ],
 "metadata": {
  "kernelspec": {
   "display_name": "Python 3 (ipykernel)",
   "language": "python",
   "name": "python3"
  },
  "language_info": {
   "codemirror_mode": {
    "name": "ipython",
    "version": 3
   },
   "file_extension": ".py",
   "mimetype": "text/x-python",
   "name": "python",
   "nbconvert_exporter": "python",
   "pygments_lexer": "ipython3",
   "version": "3.11.7"
  }
 },
 "nbformat": 4,
 "nbformat_minor": 5
}
